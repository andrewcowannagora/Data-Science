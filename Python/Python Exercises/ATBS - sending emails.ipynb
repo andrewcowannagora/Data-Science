{
 "cells": [
  {
   "cell_type": "code",
   "execution_count": 24,
   "id": "617face2",
   "metadata": {},
   "outputs": [
    {
     "data": {
      "text/plain": [
       "smtplib.SMTP"
      ]
     },
     "execution_count": 24,
     "metadata": {},
     "output_type": "execute_result"
    }
   ],
   "source": [
    "import smtplib\n",
    "conn = smtplib.SMTP('smtp.gmail.com', 587)\n",
    "type(conn)"
   ]
  },
  {
   "cell_type": "code",
   "execution_count": 25,
   "id": "03b86fe0",
   "metadata": {},
   "outputs": [
    {
     "data": {
      "text/plain": [
       "<smtplib.SMTP at 0x1e9d2d2b370>"
      ]
     },
     "execution_count": 25,
     "metadata": {},
     "output_type": "execute_result"
    }
   ],
   "source": [
    "conn"
   ]
  },
  {
   "cell_type": "code",
   "execution_count": null,
   "id": "d44ee99f",
   "metadata": {},
   "outputs": [],
   "source": [
    "conn.ehlo()"
   ]
  },
  {
   "cell_type": "code",
   "execution_count": 28,
   "id": "99508fd7",
   "metadata": {},
   "outputs": [
    {
     "data": {
      "text/plain": [
       "(220, b'2.0.0 Ready to start TLS')"
      ]
     },
     "execution_count": 28,
     "metadata": {},
     "output_type": "execute_result"
    }
   ],
   "source": [
    "conn.starttls()"
   ]
  },
  {
   "cell_type": "code",
   "execution_count": 31,
   "id": "51175bd8",
   "metadata": {},
   "outputs": [
    {
     "data": {
      "text/plain": [
       "(235, b'2.7.0 Accepted')"
      ]
     },
     "execution_count": 31,
     "metadata": {},
     "output_type": "execute_result"
    }
   ],
   "source": [
    "conn.login('******@gmail.com', '*******')"
   ]
  },
  {
   "cell_type": "code",
   "execution_count": 32,
   "id": "12c3b84d",
   "metadata": {},
   "outputs": [
    {
     "data": {
      "text/plain": [
       "{}"
      ]
     },
     "execution_count": 32,
     "metadata": {},
     "output_type": "execute_result"
    }
   ],
   "source": [
    "conn.sendmail('*****@gmail.com', '*****@gmail.com', \n",
    "             'Subject: so long...\\n\\n Greetings \\n\\n this is a test message. \\n\\n')"
   ]
  },
  {
   "cell_type": "code",
   "execution_count": null,
   "id": "09c745c5",
   "metadata": {},
   "outputs": [],
   "source": [
    "conn.quit()"
   ]
  }
 ],
 "metadata": {
  "kernelspec": {
   "display_name": "Python 3",
   "language": "python",
   "name": "python3"
  },
  "language_info": {
   "codemirror_mode": {
    "name": "ipython",
    "version": 3
   },
   "file_extension": ".py",
   "mimetype": "text/x-python",
   "name": "python",
   "nbconvert_exporter": "python",
   "pygments_lexer": "ipython3",
   "version": "3.8.8"
  }
 },
 "nbformat": 4,
 "nbformat_minor": 5
}
