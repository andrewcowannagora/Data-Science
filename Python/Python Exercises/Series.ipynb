{
 "cells": [
  {
   "cell_type": "code",
   "execution_count": 71,
   "id": "7e1c337c",
   "metadata": {},
   "outputs": [],
   "source": [
    "import pandas as pd"
   ]
  },
  {
   "cell_type": "code",
   "execution_count": 74,
   "id": "9cc041fa",
   "metadata": {},
   "outputs": [
    {
     "data": {
      "text/plain": [
       "0      Choclate\n",
       "1       Vanilla\n",
       "2    Strawberry\n",
       "3    Run Raisin\n",
       "dtype: object"
      ]
     },
     "execution_count": 74,
     "metadata": {},
     "output_type": "execute_result"
    }
   ],
   "source": [
    "ice_cream = ['Choclate', 'Vanilla', 'Strawberry', 'Run Raisin']\n",
    "\n",
    "pd.Series(ice_cream)"
   ]
  },
  {
   "cell_type": "code",
   "execution_count": 77,
   "id": "8b71f53f",
   "metadata": {},
   "outputs": [
    {
     "data": {
      "text/plain": [
       "0     4\n",
       "1     8\n",
       "2    15\n",
       "3    16\n",
       "4    23\n",
       "5    42\n",
       "dtype: int64"
      ]
     },
     "execution_count": 77,
     "metadata": {},
     "output_type": "execute_result"
    }
   ],
   "source": [
    "lottery = [4, 8, 15, 16, 23, 42]\n",
    "\n",
    "pd.Series(lottery)"
   ]
  },
  {
   "cell_type": "code",
   "execution_count": 78,
   "id": "c3ec357b",
   "metadata": {},
   "outputs": [
    {
     "data": {
      "text/plain": [
       "0     True\n",
       "1    False\n",
       "2    False\n",
       "3    False\n",
       "4     True\n",
       "dtype: bool"
      ]
     },
     "execution_count": 78,
     "metadata": {},
     "output_type": "execute_result"
    }
   ],
   "source": [
    "registrations = [True, False, False, False, True]\n",
    "\n",
    "pd.Series(registrations)"
   ]
  },
  {
   "cell_type": "code",
   "execution_count": 79,
   "id": "0f4bc01c",
   "metadata": {},
   "outputs": [
    {
     "data": {
      "text/plain": [
       "Aardvark            An Animal\n",
       "Banana      A delicious fruit\n",
       "Cyan                  A color\n",
       "dtype: object"
      ]
     },
     "execution_count": 79,
     "metadata": {},
     "output_type": "execute_result"
    }
   ],
   "source": [
    "webster = {\"Aardvark\": \"An Animal\", \"Banana\": \"A delicious fruit\", \"Cyan\": \"A color\"}\n",
    "\n",
    "pd.Series(webster)"
   ]
  },
  {
   "cell_type": "code",
   "execution_count": 80,
   "id": "88bacf03",
   "metadata": {},
   "outputs": [],
   "source": [
    "about_me = ['Smart', 'Handsome', 'Charming', 'Brilliant', 'Humble']\n",
    "s = pd.Series(about_me)"
   ]
  },
  {
   "cell_type": "code",
   "execution_count": 82,
   "id": "7cd228cd",
   "metadata": {},
   "outputs": [
    {
     "data": {
      "text/plain": [
       "array(['Smart', 'Handsome', 'Charming', 'Brilliant', 'Humble'],\n",
       "      dtype=object)"
      ]
     },
     "execution_count": 82,
     "metadata": {},
     "output_type": "execute_result"
    }
   ],
   "source": [
    "s.values"
   ]
  },
  {
   "cell_type": "code",
   "execution_count": 83,
   "id": "aa608a75",
   "metadata": {},
   "outputs": [
    {
     "data": {
      "text/plain": [
       "RangeIndex(start=0, stop=5, step=1)"
      ]
     },
     "execution_count": 83,
     "metadata": {},
     "output_type": "execute_result"
    }
   ],
   "source": [
    "s.index"
   ]
  },
  {
   "cell_type": "code",
   "execution_count": 84,
   "id": "f562c70b",
   "metadata": {},
   "outputs": [
    {
     "data": {
      "text/plain": [
       "dtype('O')"
      ]
     },
     "execution_count": 84,
     "metadata": {},
     "output_type": "execute_result"
    }
   ],
   "source": [
    "s.dtype"
   ]
  },
  {
   "cell_type": "code",
   "execution_count": 85,
   "id": "1bb535e3",
   "metadata": {},
   "outputs": [
    {
     "data": {
      "text/plain": [
       "0    2.99\n",
       "1    4.45\n",
       "2    1.36\n",
       "dtype: float64"
      ]
     },
     "execution_count": 85,
     "metadata": {},
     "output_type": "execute_result"
    }
   ],
   "source": [
    "prices = [2.99, 4.45, 1.36]\n",
    "d = pd.Series(prices)\n",
    "d"
   ]
  },
  {
   "cell_type": "code",
   "execution_count": 88,
   "id": "125ab85c",
   "metadata": {},
   "outputs": [
    {
     "data": {
      "text/plain": [
       "8.8"
      ]
     },
     "execution_count": 88,
     "metadata": {},
     "output_type": "execute_result"
    }
   ],
   "source": [
    "d.sum()"
   ]
  },
  {
   "cell_type": "code",
   "execution_count": 90,
   "id": "beb26f81",
   "metadata": {},
   "outputs": [
    {
     "data": {
      "text/plain": [
       "18.095480000000006"
      ]
     },
     "execution_count": 90,
     "metadata": {},
     "output_type": "execute_result"
    }
   ],
   "source": [
    "d.product()"
   ]
  },
  {
   "cell_type": "code",
   "execution_count": 92,
   "id": "26a6258b",
   "metadata": {},
   "outputs": [
    {
     "data": {
      "text/plain": [
       "2.9333333333333336"
      ]
     },
     "execution_count": 92,
     "metadata": {},
     "output_type": "execute_result"
    }
   ],
   "source": [
    "d.mean()"
   ]
  },
  {
   "cell_type": "code",
   "execution_count": 97,
   "id": "cfa450a3",
   "metadata": {},
   "outputs": [
    {
     "data": {
      "text/plain": [
       "Monday           Apple\n",
       "Tuesday         Orange\n",
       "Wednesday         Plum\n",
       "Thursday         Grape\n",
       "Friday       Blueberry\n",
       "dtype: object"
      ]
     },
     "execution_count": 97,
     "metadata": {},
     "output_type": "execute_result"
    }
   ],
   "source": [
    "fruits = ['Apple', 'Orange', 'Plum', 'Grape', 'Blueberry']\n",
    "weekdays = ['Monday', 'Tuesday', 'Wednesday', 'Thursday', 'Friday']\n",
    "\n",
    "pd.Series(fruits, weekdays)\n",
    "pd.Series(data = fruits, index = weekdays)\n",
    "pd.Series(fruits, index = weekdays)"
   ]
  },
  {
   "cell_type": "code",
   "execution_count": 98,
   "id": "38002cd0",
   "metadata": {},
   "outputs": [
    {
     "data": {
      "text/plain": [
       "Monday            Apple\n",
       "Tuesday          Orange\n",
       "Wednesday          Plum\n",
       "Thursday          Grape\n",
       "Friday        Blueberry\n",
       "Monday       Watermelon\n",
       "dtype: object"
      ]
     },
     "execution_count": 98,
     "metadata": {},
     "output_type": "execute_result"
    }
   ],
   "source": [
    "fruits = ['Apple', 'Orange', 'Plum', 'Grape', 'Blueberry', 'Watermelon']\n",
    "weekdays = ['Monday', 'Tuesday', 'Wednesday', 'Thursday', 'Friday', 'Monday']\n",
    "\n",
    "pd.Series(data = fruits, index = weekdays)\n"
   ]
  }
 ],
 "metadata": {
  "kernelspec": {
   "display_name": "Python 3",
   "language": "python",
   "name": "python3"
  },
  "language_info": {
   "codemirror_mode": {
    "name": "ipython",
    "version": 3
   },
   "file_extension": ".py",
   "mimetype": "text/x-python",
   "name": "python",
   "nbconvert_exporter": "python",
   "pygments_lexer": "ipython3",
   "version": "3.8.8"
  }
 },
 "nbformat": 4,
 "nbformat_minor": 5
}
